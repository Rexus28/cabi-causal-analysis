{
 "cells": [
  {
   "cell_type": "code",
   "execution_count": 6,
   "metadata": {},
   "outputs": [],
   "source": [
    "import pandas as pd\n",
    "import seaborn as sns\n",
    "import zipfile"
   ]
  },
  {
   "cell_type": "markdown",
   "metadata": {},
   "source": [
    "## Loading the data\n",
    "\n",
    "Load from a zipped folder and check the info."
   ]
  },
  {
   "cell_type": "code",
   "execution_count": 9,
   "metadata": {},
   "outputs": [
    {
     "name": "stdout",
     "output_type": "stream",
     "text": [
      "<class 'pandas.core.frame.DataFrame'>\n",
      "RangeIndex: 332821 entries, 0 to 332820\n",
      "Data columns (total 13 columns):\n",
      " #   Column              Non-Null Count   Dtype         \n",
      "---  ------              --------------   -----         \n",
      " 0   ride_id             332821 non-null  object        \n",
      " 1   rideable_type       332821 non-null  object        \n",
      " 2   started_at          332821 non-null  datetime64[ns]\n",
      " 3   ended_at            332821 non-null  datetime64[ns]\n",
      " 4   start_station_name  319064 non-null  object        \n",
      " 5   start_station_id    319064 non-null  float64       \n",
      " 6   end_station_name    317296 non-null  object        \n",
      " 7   end_station_id      317296 non-null  float64       \n",
      " 8   start_lat           332821 non-null  float64       \n",
      " 9   start_lng           332821 non-null  float64       \n",
      " 10  end_lat             332267 non-null  float64       \n",
      " 11  end_lng             332267 non-null  float64       \n",
      " 12  member_casual       332821 non-null  object        \n",
      "dtypes: datetime64[ns](2), float64(6), object(5)\n",
      "memory usage: 33.0+ MB\n"
     ]
    },
    {
     "data": {
      "text/plain": [
       "None"
      ]
     },
     "metadata": {},
     "output_type": "display_data"
    },
    {
     "data": {
      "text/html": [
       "<div>\n",
       "<style scoped>\n",
       "    .dataframe tbody tr th:only-of-type {\n",
       "        vertical-align: middle;\n",
       "    }\n",
       "\n",
       "    .dataframe tbody tr th {\n",
       "        vertical-align: top;\n",
       "    }\n",
       "\n",
       "    .dataframe thead th {\n",
       "        text-align: right;\n",
       "    }\n",
       "</style>\n",
       "<table border=\"1\" class=\"dataframe\">\n",
       "  <thead>\n",
       "    <tr style=\"text-align: right;\">\n",
       "      <th></th>\n",
       "      <th>ride_id</th>\n",
       "      <th>rideable_type</th>\n",
       "      <th>started_at</th>\n",
       "      <th>ended_at</th>\n",
       "      <th>start_station_name</th>\n",
       "      <th>start_station_id</th>\n",
       "      <th>end_station_name</th>\n",
       "      <th>end_station_id</th>\n",
       "      <th>start_lat</th>\n",
       "      <th>start_lng</th>\n",
       "      <th>end_lat</th>\n",
       "      <th>end_lng</th>\n",
       "      <th>member_casual</th>\n",
       "    </tr>\n",
       "  </thead>\n",
       "  <tbody>\n",
       "    <tr>\n",
       "      <th>167441</th>\n",
       "      <td>0B85000025F56858</td>\n",
       "      <td>electric_bike</td>\n",
       "      <td>2022-05-18 11:27:50</td>\n",
       "      <td>2022-05-18 11:34:32</td>\n",
       "      <td>Anacostia Metro</td>\n",
       "      <td>31801.0</td>\n",
       "      <td>Minnesota Ave &amp; R St SE</td>\n",
       "      <td>31826.0</td>\n",
       "      <td>38.862664</td>\n",
       "      <td>-76.994763</td>\n",
       "      <td>38.869337</td>\n",
       "      <td>-76.978519</td>\n",
       "      <td>member</td>\n",
       "    </tr>\n",
       "    <tr>\n",
       "      <th>79430</th>\n",
       "      <td>53E25A1D83809DCC</td>\n",
       "      <td>classic_bike</td>\n",
       "      <td>2022-05-27 16:41:21</td>\n",
       "      <td>2022-05-27 17:43:04</td>\n",
       "      <td>Gravelly Point</td>\n",
       "      <td>31064.0</td>\n",
       "      <td>Lincoln Memorial</td>\n",
       "      <td>31258.0</td>\n",
       "      <td>38.865029</td>\n",
       "      <td>-77.039511</td>\n",
       "      <td>38.888255</td>\n",
       "      <td>-77.049436</td>\n",
       "      <td>member</td>\n",
       "    </tr>\n",
       "    <tr>\n",
       "      <th>83177</th>\n",
       "      <td>8526FDAFB7262B7F</td>\n",
       "      <td>classic_bike</td>\n",
       "      <td>2022-05-29 17:25:34</td>\n",
       "      <td>2022-05-29 17:38:16</td>\n",
       "      <td>New York Ave &amp; Hecht Ave NE</td>\n",
       "      <td>31518.0</td>\n",
       "      <td>D St &amp; Maryland Ave NE</td>\n",
       "      <td>31612.0</td>\n",
       "      <td>38.915604</td>\n",
       "      <td>-76.983683</td>\n",
       "      <td>38.894841</td>\n",
       "      <td>-76.995916</td>\n",
       "      <td>member</td>\n",
       "    </tr>\n",
       "    <tr>\n",
       "      <th>110525</th>\n",
       "      <td>3A223C1FBADBC29C</td>\n",
       "      <td>classic_bike</td>\n",
       "      <td>2022-05-25 17:11:29</td>\n",
       "      <td>2022-05-25 18:09:17</td>\n",
       "      <td>Jefferson Dr &amp; 14th St SW</td>\n",
       "      <td>31247.0</td>\n",
       "      <td>Connecticut Ave &amp; R St NW</td>\n",
       "      <td>31299.0</td>\n",
       "      <td>38.888553</td>\n",
       "      <td>-77.032427</td>\n",
       "      <td>38.912644</td>\n",
       "      <td>-77.045640</td>\n",
       "      <td>member</td>\n",
       "    </tr>\n",
       "    <tr>\n",
       "      <th>314074</th>\n",
       "      <td>55C79691BA1A1C99</td>\n",
       "      <td>classic_bike</td>\n",
       "      <td>2022-05-20 14:37:34</td>\n",
       "      <td>2022-05-20 15:02:57</td>\n",
       "      <td>10th St &amp; Constitution Ave NW</td>\n",
       "      <td>31219.0</td>\n",
       "      <td>20th &amp; L St NW</td>\n",
       "      <td>31250.0</td>\n",
       "      <td>38.893028</td>\n",
       "      <td>-77.026013</td>\n",
       "      <td>38.903584</td>\n",
       "      <td>-77.044789</td>\n",
       "      <td>casual</td>\n",
       "    </tr>\n",
       "  </tbody>\n",
       "</table>\n",
       "</div>"
      ],
      "text/plain": [
       "                 ride_id  rideable_type          started_at  \\\n",
       "167441  0B85000025F56858  electric_bike 2022-05-18 11:27:50   \n",
       "79430   53E25A1D83809DCC   classic_bike 2022-05-27 16:41:21   \n",
       "83177   8526FDAFB7262B7F   classic_bike 2022-05-29 17:25:34   \n",
       "110525  3A223C1FBADBC29C   classic_bike 2022-05-25 17:11:29   \n",
       "314074  55C79691BA1A1C99   classic_bike 2022-05-20 14:37:34   \n",
       "\n",
       "                  ended_at             start_station_name  start_station_id  \\\n",
       "167441 2022-05-18 11:34:32                Anacostia Metro           31801.0   \n",
       "79430  2022-05-27 17:43:04                 Gravelly Point           31064.0   \n",
       "83177  2022-05-29 17:38:16    New York Ave & Hecht Ave NE           31518.0   \n",
       "110525 2022-05-25 18:09:17      Jefferson Dr & 14th St SW           31247.0   \n",
       "314074 2022-05-20 15:02:57  10th St & Constitution Ave NW           31219.0   \n",
       "\n",
       "                 end_station_name  end_station_id  start_lat  start_lng  \\\n",
       "167441    Minnesota Ave & R St SE         31826.0  38.862664 -76.994763   \n",
       "79430            Lincoln Memorial         31258.0  38.865029 -77.039511   \n",
       "83177      D St & Maryland Ave NE         31612.0  38.915604 -76.983683   \n",
       "110525  Connecticut Ave & R St NW         31299.0  38.888553 -77.032427   \n",
       "314074             20th & L St NW         31250.0  38.893028 -77.026013   \n",
       "\n",
       "          end_lat    end_lng member_casual  \n",
       "167441  38.869337 -76.978519        member  \n",
       "79430   38.888255 -77.049436        member  \n",
       "83177   38.894841 -76.995916        member  \n",
       "110525  38.912644 -77.045640        member  \n",
       "314074  38.903584 -77.044789        casual  "
      ]
     },
     "execution_count": 9,
     "metadata": {},
     "output_type": "execute_result"
    }
   ],
   "source": [
    "zip_path = \"../data/202205-capitalbikeshare-tripdata.zip\"\n",
    "zf = zipfile.ZipFile(zip_path) \n",
    "df = pd.read_csv(zf.open('202205-capitalbikeshare-tripdata.csv'),\n",
    "                 parse_dates=[\"started_at\", \"ended_at\"])\n",
    "display(df.info())\n",
    "df.sample(5)"
   ]
  },
  {
   "cell_type": "markdown",
   "metadata": {},
   "source": [
    "## Inspecting the data\n",
    "\n",
    "Checking some of the features we are interested in using, and then visualizing the data."
   ]
  },
  {
   "cell_type": "code",
   "execution_count": 15,
   "metadata": {},
   "outputs": [
    {
     "data": {
      "text/plain": [
       "classic_bike     254129\n",
       "electric_bike     52933\n",
       "docked_bike       25759\n",
       "Name: rideable_type, dtype: int64"
      ]
     },
     "execution_count": 15,
     "metadata": {},
     "output_type": "execute_result"
    }
   ],
   "source": [
    "df[\"rideable_type\"].value_counts()"
   ]
  },
  {
   "cell_type": "code",
   "execution_count": 29,
   "metadata": {},
   "outputs": [
    {
     "data": {
      "text/plain": [
       "<AxesSubplot:xlabel='rideable_type', ylabel='Count'>"
      ]
     },
     "execution_count": 29,
     "metadata": {},
     "output_type": "execute_result"
    },
    {
     "data": {
      "image/png": "[encoded data removed]",
      "text/plain": [
       "<Figure size 432x288 with 1 Axes>"
      ]
     },
     "metadata": {
      "needs_background": "light"
     },
     "output_type": "display_data"
    }
   ],
   "source": [
    "sns.histplot(data=df, x=\"rideable_type\")"
   ]
  },
  {
   "cell_type": "code",
   "execution_count": 21,
   "metadata": {},
   "outputs": [
    {
     "data": {
      "text/plain": [
       "member    185200\n",
       "casual    147621\n",
       "Name: member_casual, dtype: int64"
      ]
     },
     "execution_count": 21,
     "metadata": {},
     "output_type": "execute_result"
    }
   ],
   "source": [
    "df[\"member_casual\"].value_counts()"
   ]
  },
  {
   "cell_type": "code",
   "execution_count": 30,
   "metadata": {},
   "outputs": [
    {
     "data": {
      "text/plain": [
       "<AxesSubplot:xlabel='member_casual', ylabel='Count'>"
      ]
     },
     "execution_count": 30,
     "metadata": {},
     "output_type": "execute_result"
    },
    {
     "data": {
      "image/png": "[encoded data removed]",
      "text/plain": [
       "<Figure size 432x288 with 1 Axes>"
      ]
     },
     "metadata": {
      "needs_background": "light"
     },
     "output_type": "display_data"
    }
   ],
   "source": [
    "sns.histplot(data=df, x=\"member_casual\")"
   ]
  },
  {
   "cell_type": "code",
   "execution_count": 33,
   "metadata": {},
   "outputs": [
    {
     "data": {
      "text/plain": [
       "<AxesSubplot:xlabel='rideable_type', ylabel='Count'>"
      ]
     },
     "execution_count": 33,
     "metadata": {},
     "output_type": "execute_result"
    },
    {
     "data": {
      "image/png": "[encoded data removed]",
      "text/plain": [
       "<Figure size 432x288 with 1 Axes>"
      ]
     },
     "metadata": {
      "needs_background": "light"
     },
     "output_type": "display_data"
    }
   ],
   "source": [
    "sns.histplot(data=df, x=\"rideable_type\", hue=\"member_casual\")"
   ]
  },
  {
   "cell_type": "markdown",
   "metadata": {},
   "source": [
    "## Aggregating the data\n",
    "\n",
    "We are going to drop what we don't need, create some new features, and then aggregate everything to the day."
   ]
  },
  {
   "cell_type": "code",
   "execution_count": 61,
   "metadata": {},
   "outputs": [
    {
     "data": {
      "text/html": [
       "<div>\n",
       "<style scoped>\n",
       "    .dataframe tbody tr th:only-of-type {\n",
       "        vertical-align: middle;\n",
       "    }\n",
       "\n",
       "    .dataframe tbody tr th {\n",
       "        vertical-align: top;\n",
       "    }\n",
       "\n",
       "    .dataframe thead th {\n",
       "        text-align: right;\n",
       "    }\n",
       "</style>\n",
       "<table border=\"1\" class=\"dataframe\">\n",
       "  <thead>\n",
       "    <tr style=\"text-align: right;\">\n",
       "      <th></th>\n",
       "      <th>classic_bike</th>\n",
       "      <th>electric_bike</th>\n",
       "      <th>member</th>\n",
       "      <th>casual</th>\n",
       "      <th>total_rides</th>\n",
       "      <th>date</th>\n",
       "    </tr>\n",
       "  </thead>\n",
       "  <tbody>\n",
       "    <tr>\n",
       "      <th>0</th>\n",
       "      <td>6484</td>\n",
       "      <td>1253</td>\n",
       "      <td>4355</td>\n",
       "      <td>3382</td>\n",
       "      <td>7737</td>\n",
       "      <td>2022-05-01</td>\n",
       "    </tr>\n",
       "    <tr>\n",
       "      <th>1</th>\n",
       "      <td>8865</td>\n",
       "      <td>1561</td>\n",
       "      <td>6582</td>\n",
       "      <td>3844</td>\n",
       "      <td>10426</td>\n",
       "      <td>2022-05-02</td>\n",
       "    </tr>\n",
       "    <tr>\n",
       "      <th>2</th>\n",
       "      <td>9275</td>\n",
       "      <td>1833</td>\n",
       "      <td>7210</td>\n",
       "      <td>3898</td>\n",
       "      <td>11108</td>\n",
       "      <td>2022-05-03</td>\n",
       "    </tr>\n",
       "    <tr>\n",
       "      <th>3</th>\n",
       "      <td>8461</td>\n",
       "      <td>1852</td>\n",
       "      <td>6853</td>\n",
       "      <td>3460</td>\n",
       "      <td>10313</td>\n",
       "      <td>2022-05-04</td>\n",
       "    </tr>\n",
       "    <tr>\n",
       "      <th>4</th>\n",
       "      <td>8633</td>\n",
       "      <td>1872</td>\n",
       "      <td>6781</td>\n",
       "      <td>3724</td>\n",
       "      <td>10505</td>\n",
       "      <td>2022-05-05</td>\n",
       "    </tr>\n",
       "    <tr>\n",
       "      <th>5</th>\n",
       "      <td>3026</td>\n",
       "      <td>1047</td>\n",
       "      <td>2867</td>\n",
       "      <td>1206</td>\n",
       "      <td>4073</td>\n",
       "      <td>2022-05-06</td>\n",
       "    </tr>\n",
       "    <tr>\n",
       "      <th>6</th>\n",
       "      <td>2027</td>\n",
       "      <td>756</td>\n",
       "      <td>1958</td>\n",
       "      <td>825</td>\n",
       "      <td>2783</td>\n",
       "      <td>2022-05-07</td>\n",
       "    </tr>\n",
       "    <tr>\n",
       "      <th>7</th>\n",
       "      <td>5355</td>\n",
       "      <td>1374</td>\n",
       "      <td>4101</td>\n",
       "      <td>2628</td>\n",
       "      <td>6729</td>\n",
       "      <td>2022-05-08</td>\n",
       "    </tr>\n",
       "    <tr>\n",
       "      <th>8</th>\n",
       "      <td>7994</td>\n",
       "      <td>1762</td>\n",
       "      <td>6429</td>\n",
       "      <td>3327</td>\n",
       "      <td>9756</td>\n",
       "      <td>2022-05-09</td>\n",
       "    </tr>\n",
       "    <tr>\n",
       "      <th>9</th>\n",
       "      <td>9265</td>\n",
       "      <td>2052</td>\n",
       "      <td>7373</td>\n",
       "      <td>3944</td>\n",
       "      <td>11317</td>\n",
       "      <td>2022-05-10</td>\n",
       "    </tr>\n",
       "    <tr>\n",
       "      <th>10</th>\n",
       "      <td>9208</td>\n",
       "      <td>1983</td>\n",
       "      <td>7323</td>\n",
       "      <td>3868</td>\n",
       "      <td>11191</td>\n",
       "      <td>2022-05-11</td>\n",
       "    </tr>\n",
       "    <tr>\n",
       "      <th>11</th>\n",
       "      <td>8732</td>\n",
       "      <td>1921</td>\n",
       "      <td>6810</td>\n",
       "      <td>3843</td>\n",
       "      <td>10653</td>\n",
       "      <td>2022-05-12</td>\n",
       "    </tr>\n",
       "    <tr>\n",
       "      <th>12</th>\n",
       "      <td>7778</td>\n",
       "      <td>1795</td>\n",
       "      <td>5665</td>\n",
       "      <td>3908</td>\n",
       "      <td>9573</td>\n",
       "      <td>2022-05-13</td>\n",
       "    </tr>\n",
       "    <tr>\n",
       "      <th>13</th>\n",
       "      <td>9383</td>\n",
       "      <td>1778</td>\n",
       "      <td>5826</td>\n",
       "      <td>5335</td>\n",
       "      <td>11161</td>\n",
       "      <td>2022-05-14</td>\n",
       "    </tr>\n",
       "    <tr>\n",
       "      <th>14</th>\n",
       "      <td>9230</td>\n",
       "      <td>1715</td>\n",
       "      <td>5700</td>\n",
       "      <td>5245</td>\n",
       "      <td>10945</td>\n",
       "      <td>2022-05-15</td>\n",
       "    </tr>\n",
       "    <tr>\n",
       "      <th>15</th>\n",
       "      <td>6574</td>\n",
       "      <td>1415</td>\n",
       "      <td>5295</td>\n",
       "      <td>2694</td>\n",
       "      <td>7989</td>\n",
       "      <td>2022-05-16</td>\n",
       "    </tr>\n",
       "    <tr>\n",
       "      <th>16</th>\n",
       "      <td>10144</td>\n",
       "      <td>1877</td>\n",
       "      <td>7748</td>\n",
       "      <td>4273</td>\n",
       "      <td>12021</td>\n",
       "      <td>2022-05-17</td>\n",
       "    </tr>\n",
       "    <tr>\n",
       "      <th>17</th>\n",
       "      <td>9512</td>\n",
       "      <td>1821</td>\n",
       "      <td>7258</td>\n",
       "      <td>4075</td>\n",
       "      <td>11333</td>\n",
       "      <td>2022-05-18</td>\n",
       "    </tr>\n",
       "    <tr>\n",
       "      <th>18</th>\n",
       "      <td>9353</td>\n",
       "      <td>1818</td>\n",
       "      <td>7004</td>\n",
       "      <td>4167</td>\n",
       "      <td>11171</td>\n",
       "      <td>2022-05-19</td>\n",
       "    </tr>\n",
       "    <tr>\n",
       "      <th>19</th>\n",
       "      <td>9549</td>\n",
       "      <td>1930</td>\n",
       "      <td>6745</td>\n",
       "      <td>4734</td>\n",
       "      <td>11479</td>\n",
       "      <td>2022-05-20</td>\n",
       "    </tr>\n",
       "    <tr>\n",
       "      <th>20</th>\n",
       "      <td>9683</td>\n",
       "      <td>2037</td>\n",
       "      <td>5932</td>\n",
       "      <td>5788</td>\n",
       "      <td>11720</td>\n",
       "      <td>2022-05-21</td>\n",
       "    </tr>\n",
       "    <tr>\n",
       "      <th>21</th>\n",
       "      <td>7356</td>\n",
       "      <td>1344</td>\n",
       "      <td>4589</td>\n",
       "      <td>4111</td>\n",
       "      <td>8700</td>\n",
       "      <td>2022-05-22</td>\n",
       "    </tr>\n",
       "    <tr>\n",
       "      <th>22</th>\n",
       "      <td>7995</td>\n",
       "      <td>1676</td>\n",
       "      <td>6096</td>\n",
       "      <td>3575</td>\n",
       "      <td>9671</td>\n",
       "      <td>2022-05-23</td>\n",
       "    </tr>\n",
       "    <tr>\n",
       "      <th>23</th>\n",
       "      <td>6927</td>\n",
       "      <td>1551</td>\n",
       "      <td>5816</td>\n",
       "      <td>2662</td>\n",
       "      <td>8478</td>\n",
       "      <td>2022-05-24</td>\n",
       "    </tr>\n",
       "    <tr>\n",
       "      <th>24</th>\n",
       "      <td>9335</td>\n",
       "      <td>1969</td>\n",
       "      <td>7415</td>\n",
       "      <td>3889</td>\n",
       "      <td>11304</td>\n",
       "      <td>2022-05-25</td>\n",
       "    </tr>\n",
       "    <tr>\n",
       "      <th>25</th>\n",
       "      <td>8696</td>\n",
       "      <td>1960</td>\n",
       "      <td>6814</td>\n",
       "      <td>3842</td>\n",
       "      <td>10656</td>\n",
       "      <td>2022-05-26</td>\n",
       "    </tr>\n",
       "    <tr>\n",
       "      <th>26</th>\n",
       "      <td>6166</td>\n",
       "      <td>1571</td>\n",
       "      <td>4891</td>\n",
       "      <td>2846</td>\n",
       "      <td>7737</td>\n",
       "      <td>2022-05-27</td>\n",
       "    </tr>\n",
       "    <tr>\n",
       "      <th>27</th>\n",
       "      <td>10621</td>\n",
       "      <td>1916</td>\n",
       "      <td>5947</td>\n",
       "      <td>6590</td>\n",
       "      <td>12537</td>\n",
       "      <td>2022-05-28</td>\n",
       "    </tr>\n",
       "    <tr>\n",
       "      <th>28</th>\n",
       "      <td>10910</td>\n",
       "      <td>1936</td>\n",
       "      <td>5681</td>\n",
       "      <td>7165</td>\n",
       "      <td>12846</td>\n",
       "      <td>2022-05-29</td>\n",
       "    </tr>\n",
       "    <tr>\n",
       "      <th>29</th>\n",
       "      <td>9134</td>\n",
       "      <td>1773</td>\n",
       "      <td>5450</td>\n",
       "      <td>5457</td>\n",
       "      <td>10907</td>\n",
       "      <td>2022-05-30</td>\n",
       "    </tr>\n",
       "    <tr>\n",
       "      <th>30</th>\n",
       "      <td>8458</td>\n",
       "      <td>1785</td>\n",
       "      <td>6686</td>\n",
       "      <td>3557</td>\n",
       "      <td>10243</td>\n",
       "      <td>2022-05-31</td>\n",
       "    </tr>\n",
       "  </tbody>\n",
       "</table>\n",
       "</div>"
      ],
      "text/plain": [
       "    classic_bike  electric_bike  member  casual  total_rides       date\n",
       "0           6484           1253    4355    3382         7737 2022-05-01\n",
       "1           8865           1561    6582    3844        10426 2022-05-02\n",
       "2           9275           1833    7210    3898        11108 2022-05-03\n",
       "3           8461           1852    6853    3460        10313 2022-05-04\n",
       "4           8633           1872    6781    3724        10505 2022-05-05\n",
       "5           3026           1047    2867    1206         4073 2022-05-06\n",
       "6           2027            756    1958     825         2783 2022-05-07\n",
       "7           5355           1374    4101    2628         6729 2022-05-08\n",
       "8           7994           1762    6429    3327         9756 2022-05-09\n",
       "9           9265           2052    7373    3944        11317 2022-05-10\n",
       "10          9208           1983    7323    3868        11191 2022-05-11\n",
       "11          8732           1921    6810    3843        10653 2022-05-12\n",
       "12          7778           1795    5665    3908         9573 2022-05-13\n",
       "13          9383           1778    5826    5335        11161 2022-05-14\n",
       "14          9230           1715    5700    5245        10945 2022-05-15\n",
       "15          6574           1415    5295    2694         7989 2022-05-16\n",
       "16         10144           1877    7748    4273        12021 2022-05-17\n",
       "17          9512           1821    7258    4075        11333 2022-05-18\n",
       "18          9353           1818    7004    4167        11171 2022-05-19\n",
       "19          9549           1930    6745    4734        11479 2022-05-20\n",
       "20          9683           2037    5932    5788        11720 2022-05-21\n",
       "21          7356           1344    4589    4111         8700 2022-05-22\n",
       "22          7995           1676    6096    3575         9671 2022-05-23\n",
       "23          6927           1551    5816    2662         8478 2022-05-24\n",
       "24          9335           1969    7415    3889        11304 2022-05-25\n",
       "25          8696           1960    6814    3842        10656 2022-05-26\n",
       "26          6166           1571    4891    2846         7737 2022-05-27\n",
       "27         10621           1916    5947    6590        12537 2022-05-28\n",
       "28         10910           1936    5681    7165        12846 2022-05-29\n",
       "29          9134           1773    5450    5457        10907 2022-05-30\n",
       "30          8458           1785    6686    3557        10243 2022-05-31"
      ]
     },
     "execution_count": 61,
     "metadata": {},
     "output_type": "execute_result"
    }
   ],
   "source": [
    "day_df = (\n",
    "    df.copy()\n",
    "    .drop(columns=[\"start_lat\", \"start_lng\", \"end_lat\", \"end_lng\"])\n",
    "    .loc[lambda df: df[\"rideable_type\"] != \"docked_bike\"]\n",
    "    .assign(\n",
    "        day = lambda df: df[\"started_at\"].dt.day,\n",
    "        month = lambda df: df[\"started_at\"].dt.month,\n",
    "        classic_bike = lambda df: df[\"rideable_type\"].eq(\"classic_bike\").map(int),\n",
    "        electric_bike = lambda df: df[\"rideable_type\"].eq(\"electric_bike\").map(int),\n",
    "        member = lambda df: df[\"member_casual\"].eq(\"member\").map(int),\n",
    "        casual = lambda df: df[\"member_casual\"].eq(\"casual\").map(int)\n",
    "        )\n",
    "    .drop(columns=[\"ride_id\", \"rideable_type\", \"started_at\", \"ended_at\", \"start_station_name\",\n",
    "                   \"start_station_id\", \"end_station_name\", \"end_station_id\", \"member_casual\"])\n",
    "    .groupby([\"month\", \"day\"]).sum()\n",
    "    .assign(\n",
    "        total_rides = lambda df: df[\"classic_bike\"] + df[\"electric_bike\"],\n",
    "        year = 2022,\n",
    "        month = lambda df: df.index.get_level_values(0),\n",
    "        day = lambda df: df.index.get_level_values(1),\n",
    "        date = lambda df: pd.to_datetime(df[[\"year\", \"month\", \"day\"]]),\n",
    "    )\n",
    "    .reset_index(drop=True)\n",
    "    # .set_index(\"date\")\n",
    "    .drop(columns=[\"year\", \"month\", \"day\"])\n",
    ")\n",
    "\n",
    "\n",
    "day_df"
   ]
  },
  {
   "cell_type": "code",
   "execution_count": 66,
   "metadata": {},
   "outputs": [
    {
     "data": {
      "text/plain": [
       "<AxesSubplot:xlabel='date', ylabel='total_rides'>"
      ]
     },
     "execution_count": 66,
     "metadata": {},
     "output_type": "execute_result"
    },
    {
     "data": {
      "image/png": "[encoded data removed]",
      "text/plain": [
       "<Figure size 432x288 with 1 Axes>"
      ]
     },
     "metadata": {
      "needs_background": "light"
     },
     "output_type": "display_data"
    }
   ],
   "source": [
    "sns.lineplot(data=day_df, x=\"date\", y=\"total_rides\")"
   ]
  },
  {
   "cell_type": "code",
   "execution_count": null,
   "metadata": {},
   "outputs": [],
   "source": []
  }
 ],
 "metadata": {
  "kernelspec": {
   "display_name": "Python 3.9.7 ('base')",
   "language": "python",
   "name": "python3"
  },
  "language_info": {
   "codemirror_mode": {
    "name": "ipython",
    "version": 3
   },
   "file_extension": ".py",
   "mimetype": "text/x-python",
   "name": "python",
   "nbconvert_exporter": "python",
   "pygments_lexer": "ipython3",
   "version": "3.9.7"
  },
  "orig_nbformat": 4,
  "vscode": {
   "interpreter": {
    "hash": "9e3ecf769eac0321e9aab2b86f298cd61edd9ba96a03b97b489f7cba8f77f423"
   }
  }
 },
 "nbformat": 4,
 "nbformat_minor": 2
}
